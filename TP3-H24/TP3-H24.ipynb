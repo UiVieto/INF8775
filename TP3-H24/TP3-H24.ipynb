{
 "cells": [
  {
   "cell_type": "markdown",
   "metadata": {},
   "source": [
    "# INF8775 – Analyse et conception d’algorithmes\n",
    "# TP3 – Hiver 2024"
   ]
  },
  {
   "cell_type": "markdown",
   "metadata": {},
   "source": [
    "Nguyen, Huy Viet, 2136374\n",
    "\n",
    "Some, Freddy, 1930443"
   ]
  },
  {
   "cell_type": "markdown",
   "metadata": {},
   "source": [
    "Note finale :"
   ]
  },
  {
   "cell_type": "markdown",
   "metadata": {},
   "source": [
    " <u>**Date limite de remise :**</u>  17 avril 23h59 (Groupe B1), 9 avril 23h59 (Groupe B2)"
   ]
  },
  {
   "cell_type": "markdown",
   "metadata": {},
   "source": [
    "# Instructions\n",
    "\n",
    "## Rédaction et remise du rapport\n",
    "\n",
    "- Ce notebook constitue à la fois le sujet du TP, votre code et votre rapport. Il contient déjà du code pour faciliter vos mesures et l'affichage de vos résultats, ainsi qu'un squelette pour votre rapport.\n",
    "\n",
    "- Complétez directement le notebook, vous êtes libres de créer de nouvelles cellules de code ou de texte. \n",
    "\n",
    "- Remettez le fichier du notebook sur Moodle avec le nom `NOM1_MATRICULE1_NOM2_MATRICULE2.ipynb`\n",
    "\n",
    "- Vous pouvez inclure du code trouvé sur Internet, mais vous devez en mentionner la source, sous peine d'être sanctionnés pour plagiat.\n",
    "\n",
    "## Mise en situation\n",
    "\n",
    "Le dernier travail pratique se fera dans le cadre du concours du meilleur algorithme pour la session d'hiver 2024. Vous devez concevoir et implanter un algorithme de votre cru pour résoudre un problème combinatoire. Le classement des équipes déterminera votre note pour la qualité de l'algorithme. Votre algorithme sera exécuté sur 3 exemplaires de notre choix, chacun pendant 1 minute.<br>\n",
    "Le rapport pour ce dernier travail pratique est assez succinct. Nous vous encourageons à terminer ce travail assez tôt afin de ne pas compromettre votre préparation à vos examens finaux.\n",
    "\n",
    "## Description du problème\n",
    "\n",
    "Le problème à résoudre est le suivant : Vous disposez d'un ensemble de blocs de dimensions variées en  hauteur, largeur et  profondeur décris par un triplet $(l, p, h)$ (largeur, profondeur, hauteur). Afin de garantir la stabilité de votre tour, vous devez vous assurer que le bloc que vous ajoutez sur votre tour repose entièrement sur le précédent.\n",
    "\n",
    "Plus formellement, les contraintes suivantes doivent être respectées :\n",
    "\n",
    "$$l_{nouveauBloc} \\leq l_{blocReceveur}  \\text{ et  } p_{nouveauBloc} \\leq p_{blocReceveur}$$\n",
    "\n",
    "On vous demande de construire plusieurs tours en utilisant tous les blocs d'une instance. En plus des contraintes d'équilibre, les tours ne doivent pas dépasser une hauteur maximum H. L'objectif est de minimiser le nombre de tours construites tout en respectant les contraintes décrites précédemment. Il est interdit de faire une rotation des blocs. Vous pouvez vérifier si votre solution est valide avec la fonction suivante :"
   ]
  },
  {
   "cell_type": "code",
   "execution_count": 1,
   "metadata": {},
   "outputs": [],
   "source": [
    "def check_solution(sample_blocks, H, solution):\n",
    "    maxHeightOK, blockSmallerOK, allBlocksUsed, onlyGivenBlocks = True, True, True, True\n",
    "    print(f\"Nombre de tours utilisées : {len(solution)}\")\n",
    "\n",
    "    for tower in solution:\n",
    "        if sum([b[2] for b in tower]) > H:\n",
    "            maxHeightOK = False\n",
    "            break\n",
    "    for t,tower in enumerate(solution):\n",
    "        for i in range(len(tower) - 1):\n",
    "            new_block = tower[i + 1]\n",
    "            receiving_block = tower[i]\n",
    "            if new_block[0] > receiving_block[0] or new_block[1] > receiving_block[1]:\n",
    "                blockSmallerOK = False\n",
    "                break\n",
    "    print(f\"Hauteur maximale non dépassée : {maxHeightOK}\\nPas de blocs plus gros reposant sur un plus petit : {blockSmallerOK}\")\n",
    "    \n",
    "    solution_blocks = [b for t in solution for b in t]\n",
    "    block_counts = {}\n",
    "    for b in sample_blocks:\n",
    "        if b not in block_counts.keys():\n",
    "            block_counts[b] = 0\n",
    "        block_counts[b] += 1\n",
    "    \n",
    "    for b in solution_blocks:\n",
    "        if b not in block_counts.keys():\n",
    "            onlyGivenBlocks = False\n",
    "            break\n",
    "        block_counts[b] -= 1\n",
    "        \n",
    "    for count in block_counts.values():\n",
    "        if count > 0:\n",
    "            allBlocksUsed = False\n",
    "        if count < 0:\n",
    "            onlyGivenBlocks = False\n",
    "        if not (allBlocksUsed and onlyGivenBlocks):\n",
    "            break\n",
    "    print(f\"Tous les blocs sont utilisés : {allBlocksUsed}\\nUniquement les blocs du sample sont utilisés : {onlyGivenBlocks}\")"
   ]
  },
  {
   "cell_type": "markdown",
   "metadata": {},
   "source": [
    "## Exemple\n",
    "\n",
    "Pour l'exemplaire de 4 blocs suivant : `[(1, 5, 8),(9, 6, 2), (8, 5, 4),(6, 2, 1)]`\n",
    "\n",
    "On évalue la solution de 2 tours (remarquez la liste de liste) :\n",
    "\n",
    "```\n",
    "[\n",
    "    [(1, 5, 8)],\n",
    "    [(9, 6, 2),(8, 5, 4), (6, 2, 1)]\n",
    "]\n",
    "```"
   ]
  },
  {
   "cell_type": "code",
   "execution_count": 2,
   "metadata": {},
   "outputs": [
    {
     "name": "stdout",
     "output_type": "stream",
     "text": [
      "Nombre de tours utilisées : 2\n",
      "Hauteur maximale non dépassée : True\n",
      "Pas de blocs plus gros reposant sur un plus petit : True\n",
      "Tous les blocs sont utilisés : True\n",
      "Uniquement les blocs du sample sont utilisés : True\n"
     ]
    }
   ],
   "source": [
    "s = [(1, 5, 8), (9, 6, 2), (8, 5, 4), (6, 2, 1)]\n",
    "check_solution(s, 9, [[(1,5,8)], [(9, 6, 2),(8,5,4),(6,2,1)]])"
   ]
  },
  {
   "cell_type": "markdown",
   "metadata": {},
   "source": [
    "\n",
    "## Jeu de données\n",
    "\n",
    "La fonction `generate_sample` ci-dessous permet de générer une liste de N blocs de dimensions variables.\n",
    "\n"
   ]
  },
  {
   "cell_type": "code",
   "execution_count": 3,
   "metadata": {},
   "outputs": [],
   "source": [
    "import numpy as np\n",
    "import matplotlib.pyplot as plt\n",
    "import time\n",
    "from random import randint"
   ]
  },
  {
   "cell_type": "code",
   "execution_count": 4,
   "metadata": {},
   "outputs": [],
   "source": [
    "def generate_sample(size, max_width=100, max_depth=100, max_height=20):\n",
    "    return [\n",
    "    (randint(1, max_width), randint(1, max_depth), randint(1, max_height))\n",
    "    for _ in range(size)\n",
    "    ]\n",
    "\n",
    "def writeFile(sample, H, filePath):\n",
    "    f = open(filePath, \"w+\")\n",
    "    f.write(f\"{H}\\n\")\n",
    "    for w, p, h in sample:\n",
    "        f.write(f\"{w} {p} {h}\\n\")\n",
    "    f.close()\n",
    "\n",
    "def readFile(filePath):\n",
    "    \"\"\"\n",
    "    Charger une instance depuis un fichier\n",
    "    \"\"\"\n",
    "    f = open(filePath)\n",
    "    lines = list(f)\n",
    "    H = int(lines[0])\n",
    "    blocks = [\n",
    "        tuple(map(int, x.split(' ')))\n",
    "        for x in lines[1:]\n",
    "    ]\n",
    "    f.close()\n",
    "    return H, blocks"
   ]
  },
  {
   "cell_type": "markdown",
   "metadata": {},
   "source": [
    "Utilisez la cellule ci-dessous pour vous créer des exemplaires de tailles variables, que vous pourrez réaccéder plus tard à l'aide de readFile()"
   ]
  },
  {
   "cell_type": "code",
   "execution_count": 5,
   "metadata": {},
   "outputs": [],
   "source": [
    "writeFile(generate_sample(size=10, max_width=100, max_depth=100, max_height=10), 15, 'instance1.txt')"
   ]
  },
  {
   "cell_type": "markdown",
   "metadata": {},
   "source": [
    "## Votre algorithme \n",
    "\n",
    "### Présentation\n",
    "\n",
    "Présentez votre algorithme sous forme de pseudo-code et incluant une analyse de complexité théorique des principales fonctions."
   ]
  },
  {
   "cell_type": "markdown",
   "metadata": {},
   "source": [
    "*Insérer votre réponse ici*"
   ]
  },
  {
   "cell_type": "markdown",
   "metadata": {},
   "source": [
    "### Implémentation\n",
    "\n",
    "Implémentez votre algorithme ci-dessous. Veillez à respecter le nom de la fonction, ses arguments, ainsi que le format de sortie."
   ]
  },
  {
   "cell_type": "code",
   "execution_count": 37,
   "metadata": {},
   "outputs": [],
   "source": [
    "import time\n",
    "import itertools\n",
    "import random\n",
    "import math\n",
    "from typing import Callable"
   ]
  },
  {
   "cell_type": "code",
   "execution_count": 129,
   "metadata": {},
   "outputs": [],
   "source": [
    "def greedy_solve(blocks: tuple[int, int, int], H: int, timeout: Callable[[], bool]):\n",
    "    towers = []\n",
    "    heights = []\n",
    "    \n",
    "    def add_block(block):     \n",
    "        if timeout(): \n",
    "            return\n",
    "    \n",
    "        for i, tower in enumerate(towers):\n",
    "            if heights[i] + block[2] <= H and tower[-1][1] >= block[1]:\n",
    "                tower.append(block)\n",
    "                heights[i] += block[2]\n",
    "        \n",
    "                return\n",
    "        \n",
    "        towers.append([block])\n",
    "        heights.append(block[2])\n",
    "        \n",
    "        return\n",
    "\n",
    "    blocks.sort(key=lambda x : (x[0], x[1]), reverse=True)     \n",
    "    for block in blocks:\n",
    "        add_block(block)\n",
    "        \n",
    "    return towers, heights"
   ]
  },
  {
   "cell_type": "code",
   "execution_count": 192,
   "metadata": {},
   "outputs": [],
   "source": [
    "def local_search(towers, heights, H, timeout, iteration_factor=None):\n",
    "    if iteration_factor is None:\n",
    "        iteration_factor = 2000\n",
    "\n",
    "    search_iterations = iteration_factor * len(towers)\n",
    "\n",
    "    def random_swap_blocks(i, j):\n",
    "        if timeout(): return\n",
    "        \n",
    "        tower = towers[i]\n",
    "        other_tower = towers[j]\n",
    "\n",
    "        index = random.randint(0, len(tower)-1)        \n",
    "        block_to_swap = tower[index]\n",
    "        \n",
    "        if heights[j] + block_to_swap[2] > H:\n",
    "            return\n",
    "\n",
    "        if block_to_swap[0] <= other_tower[-1][0] and block_to_swap[1] <= other_tower[-1][1]:\n",
    "            other_tower.append(tower.pop(index))\n",
    "            heights[j] += block_to_swap[2]\n",
    "            heights[i] -= block_to_swap[2]\n",
    "\n",
    "        else:\n",
    "            for k, block in enumerate(other_tower[:-1]):\n",
    "                if timeout(): return\n",
    "    \n",
    "                higher_block = other_tower[k+1]\n",
    "    \n",
    "                if higher_block[0] <= block_to_swap[0] <= block[0] and higher_block[1] <= block_to_swap[1] <= block[1]:\n",
    "                    other_tower.insert(k+1, tower.pop(index))\n",
    "                    heights[j] += block_to_swap[2]\n",
    "                    heights[i] -= block_to_swap[2]\n",
    "\n",
    "                    break\n",
    "\n",
    "        if not tower:\n",
    "            towers.pop(i)\n",
    "            heights.pop(i)\n",
    "        \n",
    "        return\n",
    "    \n",
    "    for i in range(search_iterations):\n",
    "        if timeout(): return\n",
    "\n",
    "        i, j = random.choices(range(0, len(heights)), [H - height for height in heights], k=2)\n",
    "        if i == j:\n",
    "            j = (j + 1) % len(heights)\n",
    "            \n",
    "        random_swap_blocks(i, j)\n",
    "\n",
    "    return"
   ]
  },
  {
   "cell_type": "code",
   "execution_count": null,
   "metadata": {},
   "outputs": [],
   "source": [
    "def elimination_search(towers, heights, H, timeout):\n",
    "    \n",
    "    return"
   ]
  },
  {
   "cell_type": "code",
   "execution_count": 196,
   "metadata": {},
   "outputs": [],
   "source": [
    "def solve(blocks, H, maxTime=60):\n",
    "    \"\"\"\n",
    "    Retourne la liste des tours construites.\n",
    "    Une tour est une liste de bloc, où le bloc tour[i+1] est posé sur le bloc tour[i]\n",
    "    Un bloc est un tuple (largeur, profondeur, hauteur)\n",
    "    \"\"\"\n",
    "    start = time.time()\n",
    "    towers = []\n",
    "    heights = []\n",
    "    \n",
    "    timeout = lambda: time.time() - start > 60 - 0.25\n",
    "\n",
    "    towers, heights = greedy_solve(blocks, H, timeout)\n",
    "\n",
    "    if timeout(): return towers\n",
    "\n",
    "    # local_search(towers, heights, H, timeout) Local search inefficace\n",
    "\n",
    "    return towers"
   ]
  },
  {
   "cell_type": "code",
   "execution_count": 198,
   "metadata": {},
   "outputs": [
    {
     "name": "stdout",
     "output_type": "stream",
     "text": [
      "maxHeight : 800 \n",
      "Number of blocks : 20000 \n",
      "\n",
      "Temps: 0.27446627616882324\n",
      "Nombre de tours utilisées : 268\n",
      "Hauteur maximale non dépassée : True\n",
      "Pas de blocs plus gros reposant sur un plus petit : True\n",
      "Tous les blocs sont utilisés : True\n",
      "Uniquement les blocs du sample sont utilisés : True\n"
     ]
    }
   ],
   "source": [
    "H, blocks = readFile('instance3.txt')\n",
    "print(\"maxHeight :\",H, \"\\nNumber of blocks :\",len(blocks),'\\n')\n",
    "\n",
    "start = time.time()\n",
    "solution = solve(blocks, H)\n",
    "print(\"Temps:\", time.time() - start)\n",
    "#print(solution)\n",
    "check_solution(blocks, H, solution)"
   ]
  },
  {
   "cell_type": "markdown",
   "metadata": {},
   "source": [
    "### Justification des choix de conception\n",
    "\n",
    "La conception de votre algorithme sera jugé avec les critères suivants:\n",
    "\n",
    "- Lien avec le contenu du cours\n",
    "- Originalité\n",
    "- Initiatives"
   ]
  },
  {
   "cell_type": "markdown",
   "metadata": {},
   "source": [
    "Une approche par force brute est peu pratique pour ce problème puisque le temps de calcul requis sera probablement trop grand. En effet, si on suppose qu'on regarde tous les combinaisons de tours possibles, on aura une complexité de l'ordre de l'exponentielle.\n",
    "\n"
   ]
  },
  {
   "cell_type": "markdown",
   "metadata": {},
   "source": [
    "### Votre algorithme est-il certain de trouver une solution optimale ? "
   ]
  },
  {
   "cell_type": "markdown",
   "metadata": {},
   "source": [
    "*Insérer votre réponse ici*"
   ]
  },
  {
   "cell_type": "markdown",
   "metadata": {},
   "source": [
    "## Barême complémentaire\n",
    "\n",
    "### Qualité de l'algorithme (i.e des solutions) : /4\n",
    "<p style='text-align: justify;'> \n",
    "Vos algorithmes seront testés pendant 1 minute sur 3 exemplaires cachés. D'abord, vous gagnerez 1pt si votre algorithme est capable de battre notre algorithme baseline sur chacun des 3 exemplaires. Les 3 points restants seront distribués en fonction de votre classement par rapport aux autres équipes. Etre dans le premier quartile vous donne 1pt par exemplaire, le 2e quartile 0.75pts etc... et 0.25pts pour le dernier quartile. Ainsi si vous battez la baseline, vous êtes surs d'avoir au minimum 1.75/4 pts pour cette partie. <br>\n",
    "L'évaluation prend également en compte le temps d'execution, avec une forte bonification pour les algorithmes inférieurs à 5 secondes, et converge vers pas de bonification pour les algorithmes durant 1 minutes : \n",
    "</p>\n",
    "\n",
    "$$ Score = - \\min(1.5, 1+\\frac{5}{2t}) \\times N_{towers} $$\n",
    "\n",
    "Si votre algorithme ne renvoie pas de solution dans le temps imparti ou que la solution n'est pas valide, alors vous n'obtiendrez pas de point pour cet exemplaire.\n",
    "\n",
    "Qualité du code : /1\n",
    "\n",
    "Présentation générale (concision, qualité du français): /1"
   ]
  }
 ],
 "metadata": {
  "kernelspec": {
   "display_name": "Python 3 (ipykernel)",
   "language": "python",
   "name": "python3"
  },
  "language_info": {
   "codemirror_mode": {
    "name": "ipython",
    "version": 3
   },
   "file_extension": ".py",
   "mimetype": "text/x-python",
   "name": "python",
   "nbconvert_exporter": "python",
   "pygments_lexer": "ipython3",
   "version": "3.12.1"
  }
 },
 "nbformat": 4,
 "nbformat_minor": 4
}
