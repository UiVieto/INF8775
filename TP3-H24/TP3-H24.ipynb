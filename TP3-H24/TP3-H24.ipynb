{
 "cells": [
  {
   "cell_type": "markdown",
   "metadata": {},
   "source": [
    "# INF8775 – Analyse et conception d’algorithmes\n",
    "# TP3 – Hiver 2024"
   ]
  },
  {
   "cell_type": "markdown",
   "metadata": {},
   "source": [
    "Nguyen, Huy Viet, 2136374\n",
    "\n",
    "Some, Freddy, 1930443"
   ]
  },
  {
   "cell_type": "markdown",
   "metadata": {},
   "source": [
    "Note finale :"
   ]
  },
  {
   "cell_type": "markdown",
   "metadata": {},
   "source": [
    " <u>**Date limite de remise :**</u>  17 avril 23h59 (Groupe B1), 9 avril 23h59 (Groupe B2)"
   ]
  },
  {
   "cell_type": "markdown",
   "metadata": {},
   "source": [
    "# Instructions\n",
    "\n",
    "## Rédaction et remise du rapport\n",
    "\n",
    "- Ce notebook constitue à la fois le sujet du TP, votre code et votre rapport. Il contient déjà du code pour faciliter vos mesures et l'affichage de vos résultats, ainsi qu'un squelette pour votre rapport.\n",
    "\n",
    "- Complétez directement le notebook, vous êtes libres de créer de nouvelles cellules de code ou de texte. \n",
    "\n",
    "- Remettez le fichier du notebook sur Moodle avec le nom `NOM1_MATRICULE1_NOM2_MATRICULE2.ipynb`\n",
    "\n",
    "- Vous pouvez inclure du code trouvé sur Internet, mais vous devez en mentionner la source, sous peine d'être sanctionnés pour plagiat.\n",
    "\n",
    "## Mise en situation\n",
    "\n",
    "Le dernier travail pratique se fera dans le cadre du concours du meilleur algorithme pour la session d'hiver 2024. Vous devez concevoir et implanter un algorithme de votre cru pour résoudre un problème combinatoire. Le classement des équipes déterminera votre note pour la qualité de l'algorithme. Votre algorithme sera exécuté sur 3 exemplaires de notre choix, chacun pendant 1 minute.<br>\n",
    "Le rapport pour ce dernier travail pratique est assez succinct. Nous vous encourageons à terminer ce travail assez tôt afin de ne pas compromettre votre préparation à vos examens finaux.\n",
    "\n",
    "## Description du problème\n",
    "\n",
    "Le problème à résoudre est le suivant : Vous disposez d'un ensemble de blocs de dimensions variées en  hauteur, largeur et  profondeur décris par un triplet $(l, p, h)$ (largeur, profondeur, hauteur). Afin de garantir la stabilité de votre tour, vous devez vous assurer que le bloc que vous ajoutez sur votre tour repose entièrement sur le précédent.\n",
    "\n",
    "Plus formellement, les contraintes suivantes doivent être respectées :\n",
    "\n",
    "$$l_{nouveauBloc} \\leq l_{blocReceveur}  \\text{ et  } p_{nouveauBloc} \\leq p_{blocReceveur}$$\n",
    "\n",
    "On vous demande de construire plusieurs tours en utilisant tous les blocs d'une instance. En plus des contraintes d'équilibre, les tours ne doivent pas dépasser une hauteur maximum H. L'objectif est de minimiser le nombre de tours construites tout en respectant les contraintes décrites précédemment. Il est interdit de faire une rotation des blocs. Vous pouvez vérifier si votre solution est valide avec la fonction suivante :"
   ]
  },
  {
   "cell_type": "code",
   "execution_count": 1,
   "metadata": {},
   "outputs": [],
   "source": [
    "def check_solution(sample_blocks, H, solution):\n",
    "    maxHeightOK, blockSmallerOK, allBlocksUsed, onlyGivenBlocks = True, True, True, True\n",
    "    print(f\"Nombre de tours utilisées : {len(solution)}\")\n",
    "\n",
    "    for tower in solution:\n",
    "        if sum([b[2] for b in tower]) > H:\n",
    "            maxHeightOK = False\n",
    "            break\n",
    "    for t,tower in enumerate(solution):\n",
    "        for i in range(len(tower) - 1):\n",
    "            new_block = tower[i + 1]\n",
    "            receiving_block = tower[i]\n",
    "            if new_block[0] > receiving_block[0] or new_block[1] > receiving_block[1]:\n",
    "                blockSmallerOK = False\n",
    "                break\n",
    "    print(f\"Hauteur maximale non dépassée : {maxHeightOK}\\nPas de blocs plus gros reposant sur un plus petit : {blockSmallerOK}\")\n",
    "    \n",
    "    solution_blocks = [b for t in solution for b in t]\n",
    "    block_counts = {}\n",
    "    for b in sample_blocks:\n",
    "        if b not in block_counts.keys():\n",
    "            block_counts[b] = 0\n",
    "        block_counts[b] += 1\n",
    "    \n",
    "    for b in solution_blocks:\n",
    "        if b not in block_counts.keys():\n",
    "            onlyGivenBlocks = False\n",
    "            break\n",
    "        block_counts[b] -= 1\n",
    "        \n",
    "    for count in block_counts.values():\n",
    "        if count > 0:\n",
    "            allBlocksUsed = False\n",
    "        if count < 0:\n",
    "            onlyGivenBlocks = False\n",
    "        if not (allBlocksUsed and onlyGivenBlocks):\n",
    "            break\n",
    "    print(f\"Tous les blocs sont utilisés : {allBlocksUsed}\\nUniquement les blocs du sample sont utilisés : {onlyGivenBlocks}\")"
   ]
  },
  {
   "cell_type": "markdown",
   "metadata": {},
   "source": [
    "## Exemple\n",
    "\n",
    "Pour l'exemplaire de 4 blocs suivant : `[(1, 5, 8),(9, 6, 2), (8, 5, 4),(6, 2, 1)]`\n",
    "\n",
    "On évalue la solution de 2 tours (remarquez la liste de liste) :\n",
    "\n",
    "```\n",
    "[\n",
    "    [(1, 5, 8)],\n",
    "    [(9, 6, 2),(8, 5, 4), (6, 2, 1)]\n",
    "]\n",
    "```"
   ]
  },
  {
   "cell_type": "code",
   "execution_count": 2,
   "metadata": {},
   "outputs": [
    {
     "name": "stdout",
     "output_type": "stream",
     "text": [
      "Nombre de tours utilisées : 2\n",
      "Hauteur maximale non dépassée : True\n",
      "Pas de blocs plus gros reposant sur un plus petit : True\n",
      "Tous les blocs sont utilisés : True\n",
      "Uniquement les blocs du sample sont utilisés : True\n"
     ]
    }
   ],
   "source": [
    "s = [(1, 5, 8), (9, 6, 2), (8, 5, 4), (6, 2, 1)]\n",
    "check_solution(s, 9, [[(1,5,8)], [(9, 6, 2),(8,5,4),(6,2,1)]])"
   ]
  },
  {
   "cell_type": "markdown",
   "metadata": {},
   "source": [
    "\n",
    "## Jeu de données\n",
    "\n",
    "La fonction `generate_sample` ci-dessous permet de générer une liste de N blocs de dimensions variables.\n",
    "\n"
   ]
  },
  {
   "cell_type": "code",
   "execution_count": 3,
   "metadata": {},
   "outputs": [],
   "source": [
    "import numpy as np\n",
    "import matplotlib.pyplot as plt\n",
    "import time\n",
    "from random import randint"
   ]
  },
  {
   "cell_type": "code",
   "execution_count": 4,
   "metadata": {},
   "outputs": [],
   "source": [
    "def generate_sample(size, max_width=100, max_depth=100, max_height=20):\n",
    "    return [\n",
    "    (randint(1, max_width), randint(1, max_depth), randint(1, max_height))\n",
    "    for _ in range(size)\n",
    "    ]\n",
    "\n",
    "def writeFile(sample, H, filePath):\n",
    "    f = open(filePath, \"w+\")\n",
    "    f.write(f\"{H}\\n\")\n",
    "    for w, p, h in sample:\n",
    "        f.write(f\"{w} {p} {h}\\n\")\n",
    "    f.close()\n",
    "\n",
    "def readFile(filePath):\n",
    "    \"\"\"\n",
    "    Charger une instance depuis un fichier\n",
    "    \"\"\"\n",
    "    f = open(filePath)\n",
    "    lines = list(f)\n",
    "    H = int(lines[0])\n",
    "    blocks = [\n",
    "        tuple(map(int, x.split(' ')))\n",
    "        for x in lines[1:]\n",
    "    ]\n",
    "    f.close()\n",
    "    return H, blocks"
   ]
  },
  {
   "cell_type": "markdown",
   "metadata": {},
   "source": [
    "Utilisez la cellule ci-dessous pour vous créer des exemplaires de tailles variables, que vous pourrez réaccéder plus tard à l'aide de readFile()"
   ]
  },
  {
   "cell_type": "code",
   "execution_count": 5,
   "metadata": {},
   "outputs": [],
   "source": [
    "writeFile(generate_sample(size=10, max_width=100, max_depth=100, max_height=10), 15, 'instance4.txt')"
   ]
  },
  {
   "cell_type": "markdown",
   "metadata": {},
   "source": [
    "## Votre algorithme \n",
    "\n",
    "### Présentation\n",
    "\n",
    "Présentez votre algorithme sous forme de pseudo-code et incluant une analyse de complexité théorique des principales fonctions."
   ]
  },
  {
   "cell_type": "markdown",
   "metadata": {},
   "source": [
    "    greedy_solve(blocks, H, timeout):\n",
    "        tours <- []\n",
    "        hauteurs <- []\n",
    "        trier blocks en ordre décroissant de taille (largeur et profondeur)\n",
    "    \n",
    "        pour block dans blocks:\n",
    "            si timeout(): arrête l'exécution\n",
    "            \n",
    "            ajouter le block à une des tours (crée une nouvelle tour si impossible)\n",
    "            mettre à jour hauteurs\n",
    "\n",
    "        returne tours, hauteurs\n",
    "\n",
    "    solve(blocks, H, maxTime):\n",
    "        tours, hauteurs = greedy_solve(blocks, H, timeout)"
   ]
  },
  {
   "cell_type": "markdown",
   "metadata": {},
   "source": [
    "#### Analyse de complexité de l'algorithme\n",
    "\n",
    "L'analyse est faite pour un nombre de blocks $n$ et une hauteur maximale $H$.\n",
    "\n",
    "timeout est une fonction qui retourne vrai si on a dépassé le temps maximal, faux sinon. Sa complexité est en $\\Theta(1)$\n",
    "\n",
    "Le greedy_solve effectue un tri (en $\\Theta(n \\times \\log n)$), puis ajoute une tour un block à la fois aux tours. On crée une nouvelle tour si on ne peut plus ajouter de bloc. Dans le meilleur cas, on ajoute toujours le block à la première tour, dans le pire cas, on crée une nouvelle tour à chaque fois qu'on ajoute un bloc. Par conséquent, ajouter un bloc est en $\\Omega(1)$ et en $O(n)$. La complexité du greedy_solve est donc $\\Omega(n \\times \\log n)$ et $O(n^2)$.\n",
    "\n",
    "#### Influence de la taille des blocs\n",
    "\n",
    "Supposons que la hauteur des blocs $T$ suit une distribution uniforme discrète dont les valeurs possibles font parties de {1, 2, ..., t}, où $t <= H$. Si on a un très grand nombre de blocs et qu'on soit dans le cas idéal (on peut placer les blocs un à la suite de l'autre), une tour devrait avoir $ H / E(T) = 2H /(t + 1) $ blocs, ce qui implique qu'il devrait avoir en moyenne $\\frac{n \\times (t+1)}{2H}$ tours. Ceci donne une ordre de grandeur que la solution devrait avoir."
   ]
  },
  {
   "cell_type": "markdown",
   "metadata": {},
   "source": [
    "### Implémentation\n",
    "\n",
    "Implémentez votre algorithme ci-dessous. Veillez à respecter le nom de la fonction, ses arguments, ainsi que le format de sortie."
   ]
  },
  {
   "cell_type": "code",
   "execution_count": 6,
   "metadata": {},
   "outputs": [],
   "source": [
    "import time\n",
    "import itertools\n",
    "import random\n",
    "import math\n",
    "from typing import Callable\n",
    "\n",
    "Block = tuple[int, int, int]"
   ]
  },
  {
   "cell_type": "code",
   "execution_count": 7,
   "metadata": {},
   "outputs": [],
   "source": [
    "def greedy_solve(blocks: list[Block], H: int, timeout: Callable[[], bool]):\n",
    "    towers = []\n",
    "    heights = []\n",
    "    \n",
    "    def add_block(block):     \n",
    "        if timeout(): return\n",
    "    \n",
    "        for i, tower in enumerate(towers):\n",
    "            if heights[i] + block[2] <= H and tower[-1][1] >= block[1]:\n",
    "                tower.append(block)\n",
    "                heights[i] += block[2]\n",
    "        \n",
    "                return\n",
    "\n",
    "        towers.append([block])\n",
    "        heights.append(block[2])\n",
    "        \n",
    "        return\n",
    "\n",
    "    \n",
    "    blocks.sort(reverse=True)     \n",
    "\n",
    "    for block in blocks:\n",
    "        add_block(block)\n",
    "        \n",
    "    return towers, heights"
   ]
  },
  {
   "cell_type": "code",
   "execution_count": 8,
   "metadata": {},
   "outputs": [],
   "source": [
    "def solve(blocks, H, maxTime=60):\n",
    "    \"\"\"\n",
    "    Retourne la liste des tours construites.\n",
    "    Une tour est une liste de bloc, où le bloc tour[i+1] est posé sur le bloc tour[i]\n",
    "    Un bloc est un tuple (largeur, profondeur, hauteur)\n",
    "    \"\"\"\n",
    "    start = time.time()\n",
    "    towers = []\n",
    "    heights = []\n",
    "    \n",
    "    timeout = lambda: time.time() - start > 60 - 0.25\n",
    "\n",
    "    towers, heights = greedy_solve(blocks, H, timeout)\n",
    "\n",
    "    if timeout(): return towers\n",
    "\n",
    "    amélioration()\n",
    "\n",
    "    return towers"
   ]
  },
  {
   "cell_type": "code",
   "execution_count": 19,
   "metadata": {},
   "outputs": [
    {
     "name": "stdout",
     "output_type": "stream",
     "text": [
      "maxHeight : 800 \n",
      "Number of blocks : 20000 \n",
      "\n",
      "Temps: 0.41788291931152344\n",
      "Nombre de tours utilisées : 268\n",
      "Hauteur maximale non dépassée : True\n",
      "Pas de blocs plus gros reposant sur un plus petit : True\n",
      "Tous les blocs sont utilisés : True\n",
      "Uniquement les blocs du sample sont utilisés : True\n",
      "(1, 2801, 10)\n"
     ]
    }
   ],
   "source": [
    "H, blocks = readFile('instance3.txt')\n",
    "print(\"maxHeight :\", H, \"\\nNumber of blocks :\",len(blocks),'\\n')\n",
    "start = time.time()\n",
    "solution = solve(blocks, H)\n",
    "print(\"Temps:\", time.time() - start)\n",
    "check_solution(blocks, H, solution)\n",
    "\n",
    "blocks.sort(key=lambda x: x[2])\n",
    "print(blocks[-1])"
   ]
  },
  {
   "cell_type": "markdown",
   "metadata": {},
   "source": [
    "### Justification des choix de conception\n",
    "\n",
    "La conception de votre algorithme sera jugé avec les critères suivants:\n",
    "\n",
    "- Lien avec le contenu du cours\n",
    "- Originalité\n",
    "- Initiatives"
   ]
  },
  {
   "cell_type": "markdown",
   "metadata": {},
   "source": [
    "Une approche par force brute est peu pratique pour ce problème puisque le temps de calcul requis sera trop grand. En effet, si on suppose qu'on regarde tous les permutations de tours possibles, cela consiste à calculer et évaluer toutes les solutions possibles qui sont au moins de l'ordre du super polynomiale.\n",
    "\n",
    "Puisque que l'algorithme sera évaluée en fonction de sa vitesse et de la qualité de la solution donnée, nous allons générer une solution initiale, puis l'améliorer avec des métaheuristiques globales.\n",
    "\n",
    "D'abord, l'algorithme glouton implémenté permet d'avoir une solution relativement bonne rapidement, et cela, grâce au tri effectué avant l'assemblage des blocs. En effet, le tri permet d'avoir les blocs ordonnés du plus large au moins large, ce qui permet d'empiler plus de blocs par tour par rapport à si on ne trie pas les blocs."
   ]
  },
  {
   "cell_type": "markdown",
   "metadata": {},
   "source": [
    "### Votre algorithme est-il certain de trouver une solution optimale ? "
   ]
  },
  {
   "cell_type": "markdown",
   "metadata": {},
   "source": [
    "L'algorithme glouton n'a aucune garantie de trouver une solution optimale."
   ]
  },
  {
   "cell_type": "markdown",
   "metadata": {},
   "source": [
    "## Barême complémentaire\n",
    "\n",
    "### Qualité de l'algorithme (i.e des solutions) : /4\n",
    "<p style='text-align: justify;'> \n",
    "Vos algorithmes seront testés pendant 1 minute sur 3 exemplaires cachés. D'abord, vous gagnerez 1pt si votre algorithme est capable de battre notre algorithme baseline sur chacun des 3 exemplaires. Les 3 points restants seront distribués en fonction de votre classement par rapport aux autres équipes. Etre dans le premier quartile vous donne 1pt par exemplaire, le 2e quartile 0.75pts etc... et 0.25pts pour le dernier quartile. Ainsi si vous battez la baseline, vous êtes surs d'avoir au minimum 1.75/4 pts pour cette partie. <br>\n",
    "L'évaluation prend également en compte le temps d'execution, avec une forte bonification pour les algorithmes inférieurs à 5 secondes, et converge vers pas de bonification pour les algorithmes durant 1 minutes : \n",
    "</p>\n",
    "\n",
    "$$ Score = - \\frac{N_{towers}}{b(t)} \\text{\\hspace{0.1cm} avec \\hspace{0.1cm}} b(t) = \\min(1.5, 1+\\frac{5}{2t}) $$\n",
    "\n",
    "Si votre algorithme ne renvoie pas de solution dans le temps imparti ou que la solution n'est pas valide, alors vous n'obtiendrez pas de point pour cet exemplaire.\n",
    "\n",
    "Qualité du code : /1\n",
    "\n",
    "Présentation générale (concision, qualité du français): /1"
   ]
  }
 ],
 "metadata": {
  "kernelspec": {
   "display_name": "Python 3 (ipykernel)",
   "language": "python",
   "name": "python3"
  },
  "language_info": {
   "codemirror_mode": {
    "name": "ipython",
    "version": 3
   },
   "file_extension": ".py",
   "mimetype": "text/x-python",
   "name": "python",
   "nbconvert_exporter": "python",
   "pygments_lexer": "ipython3",
   "version": "3.12.1"
  }
 },
 "nbformat": 4,
 "nbformat_minor": 4
}
