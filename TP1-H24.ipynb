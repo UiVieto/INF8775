{
 "cells": [
  {
   "cell_type": "markdown",
   "metadata": {},
   "source": [
    "# INF8775 – Analyse et conception d’algorithmes\n",
    "# TP1 – Hiver 2021"
   ]
  },
  {
   "cell_type": "markdown",
   "metadata": {},
   "source": [
    "Some, Freddy, 1930443\n",
    "\n",
    "Nguyen, Huy Viet, 2136374"
   ]
  },
  {
   "cell_type": "markdown",
   "metadata": {},
   "source": [
    "Note finale :"
   ]
  },
  {
   "cell_type": "markdown",
   "metadata": {},
   "source": [
    " <u>**Date limite de remise :**</u>  21 Février 23h59 (Groupe B1), 13 février 23h59 (Groupe B2)"
   ]
  },
  {
   "cell_type": "markdown",
   "metadata": {},
   "source": [
    "# Instructions\n",
    "\n",
    "## Rédaction et remise du rapport\n",
    "\n",
    "- Ce notebook constitue à la fois le sujet du TP, votre code et votre rapport. Il contient déjà du code pour faciliter vos mesures et l'affichage de vos résultats, ainsi qu'un squelette pour votre rapport.\n",
    "\n",
    "- Complétez directement le notebook, vous êtes libres de créer de nouvelles cellules de code ou de texte. \n",
    "\n",
    "- Les questions et tâches à effectuées sont généralement indiquées par un TODO, mais lisez attentivement car nous pourrions avoir oublié d'en indiquer certaines.\n",
    "\n",
    "- Des questions sont réutilisées d'un algorithme à l'autre (puisque l'on reproduit les expérimentations à des fins de comparaisons). Veillez à suffisament développer les premières réponses afin de l'on comprenne bien votre raisonnement et pour montrer votre bonne compréhension. Vous pourrez être plus concis par la suite.\n",
    "\n",
    "- Remettez le fichier du notebook sur Moodle avec le nom `NOM1_MATRICULE1_NOM2_MATRICULE2.ipynb`\n",
    "\n",
    "- Vous pouvez inclure du code trouvé sur Internet, mais vous devez en mentionner la source, sous peine d'être sanctionnés pour plagiat.\n",
    "\n",
    "## Mise en situation\n",
    "\n",
    "Ce travail pratique se répartit sur deux séances de laboratoire et porte sur l’analyse empirique et hybride des algorithmes. Dans les capsules vidéo de la semaine 3, trois approches d’analyse de l’implantation d’un algorithme sont décrites. Vous les mettrez en pratique pour des algorithmes de résolution d’un problème connu.\n",
    "\n",
    "\n",
    "## Description du problème\n",
    "\n",
    "On vous demande de résoudre le problème de la ligne d’horizon (The Skyline Problem) qui consiste à dessiner la silhouette de bâtiments lorsqu’ils sont vus de loin. Ces bâtiments sont juxtaposés l’un à l’autre et il est possible que l’un en cache un autre.\n",
    "\n",
    "Chaque bâtiment est défini par le triplet `(l, r, h)` avec `h` la hauteur du bâtiment et `l` et `r` les abscisses des murs gauche et droit, respectivement.\n",
    "\n",
    "La solution représente une suite de couples `(x, h)` représentant les coordonnées des points définissant la silhouette des bâtiments.\n",
    "\n",
    "Soit l’exemple suivant avec 5 bâtiments :\n",
    "\n",
    "- L'exemplaire est : `(2, 9, 10), (3, 7, 15), (5, 12, 12), (15, 20, 10),\n",
    "(19, 24, 8)`\n",
    "- La solution est : `(2, 10), (3, 15), (7, 12), (12, 0), (15, 10), (20, 8), (24, 0)`\n",
    "\n",
    "La figure B représente la silhouette (et donc la solution) tracée par les bâtiments colorés de la figure A."
   ]
  },
  {
   "cell_type": "code",
   "execution_count": 20,
   "metadata": {},
   "outputs": [],
   "source": [
    "# Problem data\n",
    "example_buildings = [(2, 9, 10), (3, 7, 15), (5, 12, 12), (15, 20, 10), (19, 24, 8)]\n",
    "\n",
    "# Solution data\n",
    "example_skyline = [(2, 10), (3, 15), (7, 12), (12, 0), (15, 10), (20, 8), (24, 0)]"
   ]
  },
  {
   "cell_type": "code",
   "execution_count": 21,
   "metadata": {},
   "outputs": [
    {
     "data": {
      "image/png": "[encoded data removed]",
      "text/plain": [
       "<Figure size 1000x500 with 2 Axes>"
      ]
     },
     "metadata": {},
     "output_type": "display_data"
    }
   ],
   "source": [
    "import matplotlib.pyplot as plt\n",
    "import numpy as np\n",
    "\n",
    "# Create a figure and a set of subplots with equal width\n",
    "fig, axs = plt.subplots(1, 2, figsize=(10,5), gridspec_kw={'width_ratios': [1, 1]})\n",
    "\n",
    "# Create the first subplot to show the problem data as colored filled rectangles\n",
    "for building in example_buildings:\n",
    " left, right, height = building\n",
    " axs[0].fill([left, right, right, left], [0, 0, height, height])\n",
    "\n",
    "axs[0].set_ylim([0, 20])\n",
    "axs[0].set_aspect('equal')\n",
    "axs[0].set_title('Problem data')\n",
    "\n",
    "# Create the second subplot to plot the skyline as a staircase function\n",
    "x = [x for x, _ in example_skyline]\n",
    "y = [y for _, y in example_skyline]\n",
    "axs[1].step(x, y, where='post', color='black')\n",
    "\n",
    "# Add the solution points as red dots\n",
    "axs[1].plot(x, y, 'ro')\n",
    "\n",
    "axs[1].set_ylim([0, 20])\n",
    "axs[1].set_aspect('equal')\n",
    "axs[1].set_title('Skyline')\n",
    "\n",
    "plt.show()\n"
   ]
  },
  {
   "cell_type": "markdown",
   "metadata": {},
   "source": [
    "## Algorithmes à implanter\n",
    "\n",
    "On vous demande de résoudre ce problème de 3 façons différentes :\n",
    "\n",
    "1. En utilisant un algorithme force brute simple ;\n",
    "2. En utilisant un algorithme diviser pour régner ;\n",
    "3. En utilisant un algorithme diviser pour régner avec seuil de récursivité non élémentaire.\n",
    "\n",
    "Pour l’algorithme 3, vous devrez déterminer un seuil de récursivité expérimentalement. Les exemplaires dont la taille est en deçà de ce seuil ne sont plus résolus récursivement mais plutôt directement avec l’algorithme 1.\n",
    "\n",
    "Vos algorithmes doivent donner des réponses où les couples `(x, h)` sont triés de façon non décroissante selon x (cf. exemple plus haut). Par ailleurs, ils ne doivent pas donner de solutions avec couples redondants, i.e. deux couples qui se suivent ne peuvent pas avoir la même hauteur ni la même abscisse. "
   ]
  },
  {
   "cell_type": "markdown",
   "metadata": {},
   "source": [
    "\n",
    "## Jeu de données\n",
    "\n",
    "La fonction `generate_sample` ci-dessous permet de générer un exemplaire d'une taille donnée.\n",
    "\n",
    "La fonction `get_dataset` permet de récupérer un dataset pour la liste de taille fournie. Elle prend également en entrée un graine aléatoire pour générer le dataset en question.\n",
    "\n",
    "Afin que chaque groupe travaille avec un set différent, mais que vos propres expériences soient reproductibles, entrez l'un de vous matricule comme graine aléatoire dans la cellule ci-dessous.\n",
    "\n",
    "Vous êtes bien entendu libres de tester et mesurer vos algorithme sur le même dataset qu'un autre groupe. Pour cela, générez simplement un dataset avec la même graine et la même liste de taille.\n",
    "\n"
   ]
  },
  {
   "cell_type": "code",
   "execution_count": 22,
   "metadata": {},
   "outputs": [],
   "source": [
    "import random\n",
    "\n",
    "max_width = 50\n",
    "max_dist = 30\n",
    "max_height = 300\n",
    "\n",
    "def generate_sample(size):\n",
    "    sample = []\n",
    "    last_l = 0\n",
    "    for _ in range(size):\n",
    "        l = random.randint(last_l, last_l + max_dist)\n",
    "        r = random.randint(l+1, l + max_width)\n",
    "        h = random.randint(1, max_height)\n",
    "        sample.append((l, r, h))\n",
    "        last_l = l\n",
    "    return sample\n",
    "\n",
    "def get_dataset(seed, sizes):\n",
    "    random.seed(seed)\n",
    "    return { size: [generate_sample(size) for _ in range(5)]\n",
    "        for size in sizes }"
   ]
  },
  {
   "cell_type": "markdown",
   "metadata": {},
   "source": [
    "# Implantations et expérimentations"
   ]
  },
  {
   "cell_type": "markdown",
   "metadata": {},
   "source": [
    "Ces fonctions auxiliaires vous sont fournies pour vérifier l'exactitude des vos algorithmes, mesurer leurs performance et afficher vos résultats.\n",
    "\n",
    "Il est recommandé de prendre le temps de lire et comprendre le code.\n",
    "\n",
    "Exécutez la cellule ci-dessous pour pouvoir utiliser les fonctions auxiliaires."
   ]
  },
  {
   "cell_type": "code",
   "execution_count": 23,
   "metadata": {},
   "outputs": [],
   "source": [
    "import time\n",
    "from scipy.stats import linregress\n",
    "\n",
    "def verification_plot(buildings, skyline):\n",
    "    # Create a figure and a set of subplots with equal width\n",
    "    fig, ax = plt.subplots(figsize=(10,5))\n",
    "\n",
    "    # Create the first subplot to show the problem data as colored filled rectangles\n",
    "    for building in buildings:\n",
    "        left, right, height = building\n",
    "        ax.fill([left, right, right, left], [0, 0, height, height])\n",
    "\n",
    "    # Create the second subplot to plot the skyline as a staircase function\n",
    "    x = [x for x, _ in skyline]\n",
    "    y = [y for _, y in skyline]\n",
    "    ax.step(x, y, where='post', color='black')\n",
    "\n",
    "    # Add the solution points as red dots\n",
    "    ax.plot(x, y, 'ro')\n",
    "\n",
    "    plt.show()\n",
    "\n",
    "\n",
    "def measure(procedure, sample):\n",
    "    \"\"\" Mesure le temps d'execution d'une procédure sur un unique exemplaire \"\"\"\n",
    "    start = time.time()\n",
    "    solution = procedure(sample)\n",
    "    end = time.time()\n",
    "    sorting_time = end - start\n",
    "    return solution, sorting_time\n",
    "\n",
    "\n",
    "def measure_mean_time(procedure, samples):\n",
    "    total_time = 0\n",
    "    for i in range(len(samples)):\n",
    "        sample = samples[i]\n",
    "        solution, compute_time = measure(procedure, sample)\n",
    "        total_time += compute_time\n",
    "        print(f\"Computing {procedure.__name__} on sample {i+1} of size {len(sample)}...          \", end='\\r')\n",
    "    return total_time / len(samples)\n",
    "\n",
    "\n",
    "def measure_procedure(procedure, dataset):\n",
    "    \"\"\" Mesure les temps moyens d'execution d'une procédure sur chaque point d'un dataset \"\"\"\n",
    "    return {size: measure_mean_time(procedure, samples) for size, samples in dataset.items()}\n",
    "\n",
    "def display_measures_table(measures):\n",
    "    print(\"{: <12} {: <12}\".format(\"Taille\", \"Temps moyen (s)\"))\n",
    "    for size, measure in measures.items():\n",
    "        print(\"{: <12} {: <12}\".format(size, measure))\n",
    "\n",
    "\n",
    "def display_test_puissance(vals, title=\"Test de puissance\"):\n",
    "    x = list(vals.keys())\n",
    "    y = list(vals.values())\n",
    "\n",
    "    # Perform linear regression\n",
    "    m, b, rvalue, _, _ = linregress(x, y)\n",
    "\n",
    "    r = list(map(lambda x : m*x + b, x))\n",
    "\n",
    "    # Create the line equation\n",
    "    line_eq = f\"y = {m:.2f}x + {b:.2f}\"\n",
    "\n",
    "    # Plot the points\n",
    "    plt.scatter(x, y, label='Mesures')\n",
    "\n",
    "    # Plot the regression line\n",
    "    plt.plot(x, r, color=\"red\", label=f'Regression linéaire R²={round(rvalue**2,4)}')\n",
    "\n",
    "    # Add labels and title\n",
    "    plt.xlabel('log Taille')\n",
    "    plt.ylabel('log Temps')\n",
    "    plt.title(title)\n",
    "\n",
    "    # Add legend\n",
    "    plt.legend(bbox_to_anchor=(0.60, 0), loc='lower left')\n",
    "\n",
    "    # Display the line equation\n",
    "    plt.text(min(x), max(y), line_eq)\n",
    "\n",
    "    # Show the plot\n",
    "    plt.show()\n",
    "\n",
    "def display_test_rapport(vals, title=\"Test du rapport\"):\n",
    "    x = list(vals.keys())\n",
    "    y = list(vals.values())\n",
    "\n",
    "    plt.plot(x, y, label='Mesures')\n",
    "    plt.scatter(x, y, label='Mesures')\n",
    "\n",
    "    # Add labels and title\n",
    "    plt.xlabel('Taille')\n",
    "    plt.ylabel('Temps / f(taille)')\n",
    "    plt.title(title)\n",
    "    plt.show()\n",
    "\n",
    "\n",
    "def display_test_constantes(vals, title=\"Test des constantes\"):\n",
    "    x = list(vals.keys())\n",
    "    y = list(vals.values())\n",
    "\n",
    "    # Perform linear regression\n",
    "    m, b, rvalue, _, _ = linregress(x, y)\n",
    "\n",
    "    r = list(map(lambda x : m*x + b, x))\n",
    "\n",
    "    # Create the line equation\n",
    "    line_eq = f\"y = {m:.2E}x + {b:.2E}\"\n",
    "\n",
    "    # Plot the points\n",
    "    plt.scatter(x, y, label='Mesures')\n",
    "\n",
    "    # Plot the regression line\n",
    "    plt.plot(x, r, color=\"red\", label=f'Regression linéaire R²={round(rvalue**2,4)}')\n",
    "\n",
    "    # Add labels and title\n",
    "    plt.xlabel('f(Taille)')\n",
    "    plt.ylabel('Temps')\n",
    "    plt.title(title)\n",
    "\n",
    "    # Add legend\n",
    "    plt.legend(bbox_to_anchor=(0.60, 0), loc='lower left')\n",
    "\n",
    "    # Display the line equation\n",
    "    plt.text(min(x), max(y), line_eq)\n",
    "\n",
    "    # Show the plot\n",
    "    plt.show()\n",
    "    \n",
    "\n",
    "def display_mesures_seuil(vals):\n",
    "    x = list(vals.keys())\n",
    "    y = list(vals.values())\n",
    "    plt.plot(x, y, label='Mesures')\n",
    "    plt.scatter(x, y, label='Mesures')\n",
    "\n",
    "    # Add labels and title\n",
    "    plt.xlabel('Seuil')\n",
    "    plt.ylabel('Temps')\n",
    "    plt.title('Selection du seuil')\n",
    "    plt.show()"
   ]
  },
  {
   "cell_type": "markdown",
   "metadata": {},
   "source": [
    "## Partie 1 : Algorithme naïf (brute force) (5 pts)"
   ]
  },
  {
   "cell_type": "markdown",
   "metadata": {},
   "source": [
    "### Implantation"
   ]
  },
  {
   "cell_type": "code",
   "execution_count": 24,
   "metadata": {},
   "outputs": [],
   "source": [
    "L = 0  # côté gauche\n",
    "R = 1  # côté droit\n",
    "H = 2  # hauteur"
   ]
  },
  {
   "cell_type": "markdown",
   "metadata": {},
   "source": [
    "<u>**Question 1.a):**</u> Implantez un algorithme naïf pour le problème de la ligne d'horizon.\n",
    "\n",
    "Utilisez la fonction `verification_plot` sur l'exemplaire de présentation du problème `example_buildings` pour vérifier l'exactitude de votre algorithme et laissez la figure dans votre rapport."
   ]
  },
  {
   "cell_type": "code",
   "execution_count": 25,
   "metadata": {},
   "outputs": [],
   "source": [
    "def skyline_bruteforce(buildings):\n",
    "    # TODO : Implantez un algorithme naïf\n",
    "    skyline = []\n",
    "    sides = []\n",
    "    \n",
    "    for building in buildings:\n",
    "        sides.append(building[L])\n",
    "        sides.append(building[R])\n",
    "    sides.sort()\n",
    "\n",
    "    previous_highest_building = (0, 0, 0)\n",
    "    \n",
    "    for side in sides:\n",
    "        current_highest_building = (0, 0, 0)\n",
    "        for building in buildings:\n",
    "            if building[L] <= side and building[R] > side:                \n",
    "                if building[H] > current_highest_building[H]:\n",
    "                    current_highest_building = building\n",
    "\n",
    "        if previous_highest_building != current_highest_building:\n",
    "            previous_highest_building = current_highest_building\n",
    "            skyline.append((side, current_highest_building[H]))\n",
    "    \n",
    "    return skyline"
   ]
  },
  {
   "cell_type": "markdown",
   "metadata": {},
   "source": [
    "<u>**Question 1.b):**</u> Quelle est la complexité asymptotique théorique de cet algorithme?\n",
    "\n",
    "Pour un nombre n de bâtiments, cet algorithme effectue une boucle sur les bâtiments pour créer une liste de bords (en O(n)) et après un trie de la liste (en O(n*logn)). Ensuite, il trouve les points de la ligne d'horizon en exécutant deux boucles imbriquées qui va, pour chaque bord (au total 2n bords), itérer sur tous les bâtiments, ce qui est en O(2n) * O(n) = O(n^2). Donc, la complexité de l'algorithme est de O($n +nlogn + n^2$) = O($n^2$)."
   ]
  },
  {
   "cell_type": "markdown",
   "metadata": {},
   "source": [
    "### Mesures"
   ]
  },
  {
   "cell_type": "code",
   "execution_count": 84,
   "metadata": {},
   "outputs": [],
   "source": [
    "# TODO: Utilisez un de vos matricules comme graine et une liste de tailles judicieusement choisies\n",
    "dataset = get_dataset(2136374, [128, 188, 256, 434, 612, 818, 1024, 1536, 2048, 3078, 4096])"
   ]
  },
  {
   "cell_type": "code",
   "execution_count": 85,
   "metadata": {},
   "outputs": [
    {
     "name": "stdout",
     "output_type": "stream",
     "text": [
      "Computing skyline_bruteforce on sample 5 of size 4096...          \r"
     ]
    }
   ],
   "source": [
    "measures_bruteforce = measure_procedure(skyline_bruteforce, dataset)"
   ]
  },
  {
   "cell_type": "markdown",
   "metadata": {},
   "source": [
    "Représentez vos mesures sous forme d'un tableau avec la fonction `display_measures_table`."
   ]
  },
  {
   "cell_type": "code",
   "execution_count": 86,
   "metadata": {},
   "outputs": [
    {
     "name": "stdout",
     "output_type": "stream",
     "text": [
      "Taille       Temps moyen (s)\n",
      "128          0.0019956588745117187\n",
      "188          0.0008100986480712891\n",
      "256          0.009384918212890624\n",
      "434          0.01675424575805664\n",
      "612          0.03210740089416504\n",
      "818          0.05804295539855957\n",
      "1024         0.08757710456848145\n",
      "1536         0.21011738777160643\n",
      "2048         0.3933760166168213\n",
      "3078         0.9356163501739502\n",
      "4096         1.6970632553100586\n"
     ]
    }
   ],
   "source": [
    "display_measures_table(measures_bruteforce)"
   ]
  },
  {
   "cell_type": "markdown",
   "metadata": {},
   "source": [
    "### Analyse hybride\n",
    "\n",
    "#### Test de puissance\n",
    "\n",
    "<u>**Question 2.a):**</u> Effectuez le test de puissance de votre algorithme.\n",
    "\n",
    "Pour cela complétez d'abord le code de la fonction `values_test_puissance` pour obtenir les valeurs à placer sur le graphe. Utilisez ensuite la fonction `display_test_puissance` pour afficher le graphe."
   ]
  },
  {
   "cell_type": "code",
   "execution_count": 87,
   "metadata": {},
   "outputs": [
    {
     "data": {
      "image/png": "[encoded data removed]",
      "text/plain": [
       "<Figure size 640x480 with 1 Axes>"
      ]
     },
     "metadata": {},
     "output_type": "display_data"
    }
   ],
   "source": [
    "import math\n",
    "\n",
    "def values_test_puissance(measures):\n",
    "    return {\n",
    "        # TODO: calculez les valeurs x:y pour le test de puissance\n",
    "        math.log(x):math.log(y) for x, y in measures.items()    \n",
    "    }\n",
    "\n",
    "display_test_puissance(values_test_puissance(measures_bruteforce), \"Test de puissance: algorithme naïf\")"
   ]
  },
  {
   "cell_type": "markdown",
   "metadata": {},
   "source": [
    "<u>**Question 2.b):**</u> Analysez le graphe obtenu pour le test de puissance.\n",
    "\n",
    "On remarque que les points suivent de près la forme d'une droite et que la valeur du $R^2$ est très proche de 1, ce qui semble indiquer que la complexité de l'algorithme naïf est polynomiale. Puisque la pente et l'ordonnée à l'origine sont respectivement 2,09 et -16,90 ; on peut déduire que le temps de calcul de l'algorithme $y = e^{-16,90} \\times x^{2,09}$. Cette relation semble donc confirmer que la complexité de l'algorithme soit de O($n^2$). "
   ]
  },
  {
   "cell_type": "markdown",
   "metadata": {},
   "source": [
    "#### Test du rapport\n",
    "\n",
    "<u>**Question 3.a):**</u> Effectuez le test du rapport avec une ou plusieurs fonctions f pertinentes.\n",
    "\n",
    "Complétez d'abord la fonction `values_test_rapport` permettant d'obtenir les valeurs à reporter sur le graphe. Puis utilisez la fonction `display_test_rapport` pour afficher le graphe."
   ]
  },
  {
   "cell_type": "code",
   "execution_count": 88,
   "metadata": {},
   "outputs": [
    {
     "data": {
      "image/png": "[encoded data removed]",
      "text/plain": [
       "<Figure size 640x480 with 1 Axes>"
      ]
     },
     "metadata": {},
     "output_type": "display_data"
    }
   ],
   "source": [
    "def values_test_rapport(measures, f):\n",
    "    return {\n",
    "        # TODO: calculez les valeurs x:y pour le test du rapport\n",
    "        x : y / f(x) for x, y in measures.items()\n",
    "    }\n",
    "\n",
    "# TODO: definissez f judicieusement\n",
    "def f(x):\n",
    "    return x ** 2\n",
    "\n",
    "display_test_rapport(values_test_rapport(measures_bruteforce, f))"
   ]
  },
  {
   "cell_type": "markdown",
   "metadata": {},
   "source": [
    "<u>**Question 3.b):**</u> Analysez le graphe obtenu pour le test du rapport. Précisez le critère de choix de votre ou vos fonctions.\n",
    "\n",
    "L'algorithme devrait avoir une complexité de O($n^2$), c'est pour cette raison que la fonction choisie soit $f(x) = x^2$, car cela permettrait de confirmer la complexité de l'algorithme est de l'ordre de O($n^2$). On remarque que le test du rapport donne des valeurs autour de 1e-7; on peut déduire que temps de calcul en fonction de la taille de l'exemplaire suit la courbe y = 1,4e-7 $\\times$ $x^2$. Ce qui indique aussi que la complexité semble étre O($n^2$)."
   ]
  },
  {
   "cell_type": "markdown",
   "metadata": {},
   "source": [
    "### Test des constantes\n",
    "\n",
    "<u>**Question 4.a):**</u> Effectuez le test des constantes avec une ou plusieurs fonctions f pertinentes.\n",
    "\n",
    "Complétez d'abord la fonction `values_test_constantes` permettant d'obtenir les valeurs à reporter sur le graphe. Puis utilisez la fonction `display_test_constantes` pour afficher le graphe."
   ]
  },
  {
   "cell_type": "code",
   "execution_count": 89,
   "metadata": {},
   "outputs": [
    {
     "data": {
      "image/png": "[encoded data removed]",
      "text/plain": [
       "<Figure size 640x480 with 1 Axes>"
      ]
     },
     "metadata": {},
     "output_type": "display_data"
    }
   ],
   "source": [
    "def values_test_constantes(measures, f):\n",
    "    return {\n",
    "        # TODO: calculez les valeurs x:y pour le test du rapport\n",
    "        f(x) : y for x, y in measures.items()\n",
    "    }\n",
    "\n",
    "# TODO: définissez f judicieusement\n",
    "def f(x):\n",
    "    return x ** 2\n",
    "\n",
    "display_test_constantes(values_test_constantes(measures_bruteforce, f))"
   ]
  },
  {
   "cell_type": "markdown",
   "metadata": {},
   "source": [
    "<u>**Question 4.b):**</u> Analysez le graphe obtenu et indiquez les valeurs des constantes mises en évidence par le test.\n",
    "\n",
    "L'algorithme devrait avoir une complexité de O($n^2$), c'est pour cette raison que la fonction choisie soit $f(x) = x^2$, car cela permettrait de confirmer la complexité de l'algorithme est de l'ordre de O($n^2$). Les points suivent de manière proche une droite et le $R^2$ est proche de 1, ce qui semble indiquer que le temps de calcul de l'algorithme en fonction de la taille de l'exemplaire suit la courbe y = 1,01e-7 $\\times$ $x^2$ + 4,66e-2. Ceci semble confirmer que la complexité de l'algorithme naïf est de O($n^2$)."
   ]
  },
  {
   "cell_type": "markdown",
   "metadata": {},
   "source": [
    "## Partie 2 : Algorithme diviser pour régner (5 pts)\n"
   ]
  },
  {
   "cell_type": "markdown",
   "metadata": {},
   "source": [
    "<u>**Question 1.a):**</u> Implantez un algorithme pour le problème de la ligne d'horizon utlisant le patron de conception \"Diviser pour régner\".\n",
    "\n",
    "Utilisez la fonction `verification_plot` sur l'exemplaire de présentation du problème `example_buildings` pour vérifier l'exactitude de votre algorithme et laissez la figure dans votre rapport."
   ]
  },
  {
   "cell_type": "code",
   "execution_count": 33,
   "metadata": {},
   "outputs": [],
   "source": [
    "def merge_skylines(left: list, right: list) -> list:\n",
    "    skyline = []\n",
    "    \n",
    "    current_left_height = 0\n",
    "    current_right_height = 0\n",
    "    previous_point = (0, 0)\n",
    "    next_point = (0, 0)\n",
    "\n",
    "    i = j = 0\n",
    "\n",
    "    while i < len(left) and j < len(right):        \n",
    "        if left[i][0] < right[j][0]:\n",
    "            current_left_height = left[i][1]\n",
    "            next_point = (left[i][0], max(current_left_height, current_right_height))\n",
    "            i += 1\n",
    "        else:\n",
    "            current_right_height = right[j][1]\n",
    "            next_point = (right[j][0], max(current_left_height, current_right_height))\n",
    "            j += 1\n",
    "\n",
    "        if next_point[1] != previous_point[1]:\n",
    "            skyline.append(next_point)\n",
    "            previous_point = next_point\n",
    "        \n",
    "    while i < len(left):\n",
    "        current_left_height = left[i][1]\n",
    "        skyline.append((left[i][0], max(current_left_height, current_right_height)))\n",
    "        i += 1\n",
    "\n",
    "    while j < len(right):\n",
    "        current_right_height = right[j][1]\n",
    "        skyline.append((right[j][0], max(current_left_height, current_right_height)))\n",
    "        j += 1\n",
    "    \n",
    "    return skyline\n",
    "\n",
    "\n",
    "def skyline_divide_and_conquer(buildings):\n",
    "    skyline = []\n",
    "    # TODO: Implantez un algorithme diviser-pour-régner\n",
    "\n",
    "    if len(buildings) > 1:\n",
    "        mid = len(buildings) // 2\n",
    "\n",
    "        left_skyline = skyline_divide_and_conquer(buildings[:mid])\n",
    "        right_skyline = skyline_divide_and_conquer(buildings[mid:])\n",
    "\n",
    "        skyline = merge_skylines(left_skyline, right_skyline)\n",
    "    else:\n",
    "        skyline = [(buildings[0][L], buildings[0][H]), (buildings[0][R], 0)]\n",
    "                    \n",
    "    return skyline"
   ]
  },
  {
   "cell_type": "code",
   "execution_count": 34,
   "metadata": {},
   "outputs": [
    {
     "data": {
      "image/png": "[encoded data removed]",
      "text/plain": [
       "<Figure size 1000x500 with 1 Axes>"
      ]
     },
     "metadata": {},
     "output_type": "display_data"
    }
   ],
   "source": [
    "\n",
    "# print([(0, 0)] * 2)\n",
    "#print(skyline_divide_and_conquer(example_buildings))\n",
    "#verification_plot(example_buildings, skyline_divide_and_conquer(example_buildings))\n",
    "#verification_plot(example_buildings, [(2, 10), (3, 15), (7, 10), (13, 0)])\n",
    "#verification_plot(example_buildings, [(5, 12), (12, 0), (14, 8), (15, 10), (20, 8), (24, 0)])\n",
    "#verification_plot([(2, 13, 10), (3, 7, 15), (8, 12, 12)], skyline_divide_and_conquer([(2, 13, 10), (3, 7, 15), (8, 12, 12)]))\n",
    "\n",
    "# skyline = [(2, 10), (3, 15), (5, 12), (7, 10), (12, 0), (13, 0), (14, 8), (15, 10), (20, 8), (24, 0)]\n",
    "\n",
    "test = generate_sample(5)\n",
    "\n",
    "verification_plot(test, skyline_divide_and_conquer(test))"
   ]
  },
  {
   "cell_type": "markdown",
   "metadata": {},
   "source": [
    "<u>**Question 1.b):**</u> Quelle est la complexité asymptotique théorique de cet algorithme?"
   ]
  },
  {
   "cell_type": "markdown",
   "metadata": {},
   "source": [
    "### Mesures (seuil 1)"
   ]
  },
  {
   "cell_type": "code",
   "execution_count": 35,
   "metadata": {},
   "outputs": [],
   "source": [
    "# TODO: Utilisez un de vos matricules comme graine et une liste de tailles judicieusement choisies\n",
    "dataset = get_dataset(123456789, [128, 256, 612, 1024, 2048, 4096, 8192])"
   ]
  },
  {
   "cell_type": "code",
   "execution_count": 36,
   "metadata": {},
   "outputs": [
    {
     "name": "stdout",
     "output_type": "stream",
     "text": [
      "Computing skyline_divide_and_conquer on sample 5 of size 8192...          \r"
     ]
    }
   ],
   "source": [
    "measures_divide_naive_threshold = measure_procedure(skyline_divide_and_conquer, dataset)"
   ]
  },
  {
   "cell_type": "code",
   "execution_count": 37,
   "metadata": {},
   "outputs": [
    {
     "name": "stdout",
     "output_type": "stream",
     "text": [
      "Taille       Temps moyen (s)\n",
      "128          0.0006043434143066407\n",
      "256          0.0009877204895019532\n",
      "612          0.002599287033081055\n",
      "1024         0.005560541152954101\n",
      "2048         0.011490774154663087\n",
      "4096         0.02541060447692871\n",
      "8192         0.05851879119873047\n"
     ]
    }
   ],
   "source": [
    "display_measures_table(measures_divide_naive_threshold)"
   ]
  },
  {
   "cell_type": "markdown",
   "metadata": {},
   "source": [
    "### Analyse hybride\n",
    "\n",
    "#### Test de puissance\n",
    "\n",
    "Effectuez le test de puissance de votre algorithme.\n",
    "\n",
    "Utilisez la fonction `display_test_puissance` pour afficher le graphe."
   ]
  },
  {
   "cell_type": "code",
   "execution_count": 38,
   "metadata": {},
   "outputs": [
    {
     "ename": "TypeError",
     "evalue": "unhashable type: 'list'",
     "output_type": "error",
     "traceback": [
      "\u001b[1;31m---------------------------------------------------------------------------\u001b[0m",
      "\u001b[1;31mTypeError\u001b[0m                                 Traceback (most recent call last)",
      "Cell \u001b[1;32mIn[38], line 1\u001b[0m\n\u001b[1;32m----> 1\u001b[0m display_test_puissance(\u001b[43mvalues_test_puissance\u001b[49m\u001b[43m(\u001b[49m\u001b[43mmeasures_divide_naive_threshold\u001b[49m\u001b[43m)\u001b[49m, \u001b[38;5;124m\"\u001b[39m\u001b[38;5;124mTest de puissance: algorithme naïf\u001b[39m\u001b[38;5;124m\"\u001b[39m)\n",
      "Cell \u001b[1;32mIn[30], line 6\u001b[0m, in \u001b[0;36mvalues_test_puissance\u001b[1;34m(measures)\u001b[0m\n\u001b[0;32m      3\u001b[0m \u001b[38;5;28;01mdef\u001b[39;00m \u001b[38;5;21mvalues_test_puissance\u001b[39m(measures):\n\u001b[0;32m      4\u001b[0m     \u001b[38;5;28;01mreturn\u001b[39;00m {\n\u001b[0;32m      5\u001b[0m         \u001b[38;5;66;03m# TODO: calculez les valeurs x:y pour le test de puissance\u001b[39;00m\n\u001b[1;32m----> 6\u001b[0m         x:y \u001b[38;5;28;01mfor\u001b[39;00m size, measure \u001b[38;5;129;01min\u001b[39;00m measures\u001b[38;5;241m.\u001b[39mitems()    \n\u001b[0;32m      7\u001b[0m     }\n",
      "\u001b[1;31mTypeError\u001b[0m: unhashable type: 'list'"
     ]
    }
   ],
   "source": [
    "display_test_puissance(values_test_puissance(measures_divide_naive_threshold), \"Test de puissance: algorithme naïf\")"
   ]
  },
  {
   "cell_type": "markdown",
   "metadata": {},
   "source": [
    "<u>**Question 2):**</u> Analysez le graphe obtenu pour le test de puissance."
   ]
  },
  {
   "cell_type": "markdown",
   "metadata": {},
   "source": [
    "#### Test du rapport\n",
    "\n",
    "<u>**Question 3.a):**</u> Effectuez le test du rapport avec une ou plusieurs fonctions f pertinentes.\n",
    "\n",
    "Utilisez la fonction `display_test_rapport` pour afficher le graphe."
   ]
  },
  {
   "cell_type": "code",
   "execution_count": null,
   "metadata": {},
   "outputs": [],
   "source": [
    "# TODO: définissez f judicieusement\n",
    "def f(x):\n",
    "    return 0\n",
    "\n",
    "display_test_rapport(values_test_rapport(measures_divide_naive_threshold, f))"
   ]
  },
  {
   "cell_type": "markdown",
   "metadata": {},
   "source": [
    "<u>**Question 3.b):**</u> Analysez le graphe obtenu pour le test du rapport."
   ]
  },
  {
   "cell_type": "markdown",
   "metadata": {},
   "source": [
    "### Test des constantes\n",
    "\n",
    "<u>**Question 4.a):**</u> Effectuez le test des constantes avec une ou plusieurs fonctions f pertinentes.\n",
    "\n",
    "Utilisez la fonction `display_test_constantes` pour afficher le graphe."
   ]
  },
  {
   "cell_type": "code",
   "execution_count": null,
   "metadata": {},
   "outputs": [],
   "source": [
    "# TODO: définissez f judicieusement\n",
    "def f(x):\n",
    "    return 0\n",
    "\n",
    "display_test_constantes(values_test_constantes(measures_divide_naive_threshold, f))"
   ]
  },
  {
   "cell_type": "markdown",
   "metadata": {},
   "source": [
    "<u>**Question 4.b):**</u> Analysez le graphe obtenu et indiquez les valeurs des constantes mises en évidence par le test."
   ]
  },
  {
   "cell_type": "markdown",
   "metadata": {},
   "source": [
    "## Partie 3 : Algorithme diviser pour régner (seuil arbitraire) (5 pts)"
   ]
  },
  {
   "cell_type": "markdown",
   "metadata": {},
   "source": [
    "### Selection du seuil"
   ]
  },
  {
   "cell_type": "markdown",
   "metadata": {},
   "source": [
    "<u>**Question 1.a):**</u> Modifiez l'algorithme précédent pour y ajouter un seuil de récursivité (e.g. `threshold`). En dessous de ce seuil, vous utiliserez l'algorithme naïf écrit précédemment."
   ]
  },
  {
   "cell_type": "code",
   "execution_count": null,
   "metadata": {},
   "outputs": [],
   "source": [
    "def skyline_divide_and_conquer_threshold(buildings, threshold=1):\n",
    "    if threshold is None:\n",
    "        threshold = 1\n",
    "        \n",
    "    skyline = []\n",
    "    # TODO: Implantez un algorithme diviser-pour-régner\n",
    "    if threshold > len(buildings):\n",
    "        return skyline_bruteforce(buildings)\n",
    "    \n",
    "    if len(buildings) > 1:\n",
    "        mid = len(buildings) // 2\n",
    "\n",
    "        left_skyline = skyline_divide_and_conquer_threshold(buildings[:mid], threshold)\n",
    "        right_skyline = skyline_divide_and_conquer_threshold(buildings[mid:], threshold)\n",
    "\n",
    "        skyline = merge_skylines(left_skyline, right_skyline)\n",
    "    else:\n",
    "        skyline = [(buildings[0][L], buildings[0][H]), (buildings[0][R], 0)]\n",
    "                    \n",
    "    return skyline"
   ]
  },
  {
   "cell_type": "code",
   "execution_count": null,
   "metadata": {},
   "outputs": [],
   "source": [
    "test = generate_sample(10)\n",
    "\n",
    "verification_plot(test, skyline_divide_and_conquer_threshold(test))"
   ]
  },
  {
   "cell_type": "markdown",
   "metadata": {},
   "source": [
    "<u>**Question 1.b):**</u> Effectuez les mesures avec plusieurs seuils de récursivité pour déterminer le seuil le plus judicieux."
   ]
  },
  {
   "cell_type": "code",
   "execution_count": null,
   "metadata": {},
   "outputs": [],
   "source": [
    "measures_threshold = {\n",
    "    i:\n",
    "    measure_mean_time(\n",
    "        lambda sample: skyline_divide_and_conquer_threshold(sample, i),\n",
    "        []) # TODO: sélectionnez un exemplaire \n",
    "        for i in [] # TODO: testez une liste judicieuse de seuils\n",
    "}\n"
   ]
  },
  {
   "cell_type": "code",
   "execution_count": null,
   "metadata": {},
   "outputs": [],
   "source": [
    "display_mesures_seuil(measures_threshold)"
   ]
  },
  {
   "cell_type": "markdown",
   "metadata": {},
   "source": [
    "<u>**Question 1.c):**</u> Quel est le seuil de récursivité de le plus judicieux ? Sur quel critère l'avez vous sélectionné ? Pourquoi des seuils inférieurs ou supérieurs donnent-ils de moins bonnes performances ?"
   ]
  },
  {
   "cell_type": "code",
   "execution_count": null,
   "metadata": {},
   "outputs": [],
   "source": [
    "best_threshold = 1\n",
    "verification_plot(example_buildings, skyline_divide_and_conquer_threshold(example_buildings, best_threshold))"
   ]
  },
  {
   "cell_type": "markdown",
   "metadata": {},
   "source": [
    "<u>**Question 1.d):**</u> Quelle est la complexité asymptotique théorique de cet algorithme?"
   ]
  },
  {
   "cell_type": "markdown",
   "metadata": {},
   "source": [
    "### Mesures (seuil n)"
   ]
  },
  {
   "cell_type": "code",
   "execution_count": null,
   "metadata": {},
   "outputs": [],
   "source": [
    "measures_divide_best_threshold = measure_procedure(lambda sample : skyline_divide_and_conquer_threshold(sample, best_threshold), dataset)"
   ]
  },
  {
   "cell_type": "code",
   "execution_count": null,
   "metadata": {},
   "outputs": [],
   "source": [
    "display_measures_table(measures_divide_best_threshold)"
   ]
  },
  {
   "cell_type": "markdown",
   "metadata": {},
   "source": [
    "### Analyse hybride\n",
    "\n",
    "#### Test de puissance\n",
    "\n",
    "Effectuez le test de puissance de votre algorithme.\n",
    "\n",
    "Utilisez la fonction `display_test_puissance` pour afficher le graphe."
   ]
  },
  {
   "cell_type": "code",
   "execution_count": null,
   "metadata": {},
   "outputs": [],
   "source": [
    "display_test_puissance(values_test_puissance(measures_divide_best_threshold), \"Test de puissance: algorithme seuil n\")"
   ]
  },
  {
   "cell_type": "markdown",
   "metadata": {},
   "source": [
    "<u>**Question 2):**</u> Analysez le graphe obtenu pour le test de puissance."
   ]
  },
  {
   "cell_type": "markdown",
   "metadata": {},
   "source": [
    "#### Test du rapport\n",
    "\n",
    "<u>**Question 3.a):**</u> Effectuez le test du rapport avec une ou plusieurs fonctions f pertinentes.\n",
    "\n",
    "Utilisez la fonction `display_test_rapport` pour afficher le graphe."
   ]
  },
  {
   "cell_type": "code",
   "execution_count": null,
   "metadata": {},
   "outputs": [],
   "source": [
    "# TODO: définissez f judicieusement\n",
    "def f(x):\n",
    "    return 0\n",
    "\n",
    "display_test_rapport(values_test_rapport(measures_divide_best_threshold, f))"
   ]
  },
  {
   "cell_type": "markdown",
   "metadata": {},
   "source": [
    "<u>**Question 3.b):**</u> Analysez le graphe obtenu pour le test du rapport."
   ]
  },
  {
   "cell_type": "markdown",
   "metadata": {},
   "source": [
    "### Test des constantes\n",
    "\n",
    "<u>**Question 4.a):**</u> Effectuez le test des constantes avec une ou plusieurs fonctions f pertinentes.\n",
    "\n",
    "Utilisez la fonction `display_test_constantes` pour afficher le graphe."
   ]
  },
  {
   "cell_type": "code",
   "execution_count": null,
   "metadata": {},
   "outputs": [],
   "source": [
    "# TODO: définissez f judicieusement\n",
    "def f(x):\n",
    "    return 0\n",
    "\n",
    "display_test_constantes(values_test_constantes(measures_divide_best_threshold, f))\n"
   ]
  },
  {
   "cell_type": "markdown",
   "metadata": {},
   "source": [
    "<u>**Question 4.b):**</u> Analysez le graphe obtenu et indiquez les valeurs des constantes mises en évidence par le test."
   ]
  },
  {
   "cell_type": "markdown",
   "metadata": {},
   "source": [
    "<u>**Question 5):**</u> Commentez l'impact du seuil de récursivité. Que représente t'il pour l'algorithme diviser pour régner et l'algorithme naïf ?"
   ]
  },
  {
   "cell_type": "markdown",
   "metadata": {},
   "source": [
    "# Conclusion (3 pts)\n",
    "\n",
    "Résumez *brièvement* vos découvertes et analyses, et indiquez dans quelles circonstances vous utiliserez chacun de ces 3 algorithmes."
   ]
  },
  {
   "cell_type": "markdown",
   "metadata": {},
   "source": [
    " ## Autres critères (2 pts)\n",
    " Qualité du code / 1 pt\n",
    "\n",
    "Présentation générale / 1 pt\n",
    "\n",
    "- Concision\n",
    "- Qualité du français\n",
    "\n",
    "Pénalité retard\n",
    "- -1 pt / journée de retard, arrondi vers le haut. Les TPs ne sont plus acceptés après 3 jours."
   ]
  }
 ],
 "metadata": {
  "kernelspec": {
   "display_name": "Python 3 (ipykernel)",
   "language": "python",
   "name": "python3"
  },
  "language_info": {
   "codemirror_mode": {
    "name": "ipython",
    "version": 3
   },
   "file_extension": ".py",
   "mimetype": "text/x-python",
   "name": "python",
   "nbconvert_exporter": "python",
   "pygments_lexer": "ipython3",
   "version": "3.12.1"
  }
 },
 "nbformat": 4,
 "nbformat_minor": 4
}
